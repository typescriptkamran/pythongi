{
 "cells": [
  {
   "cell_type": "markdown",
   "metadata": {},
   "source": [
    "# String representation in python"
   ]
  },
  {
   "cell_type": "code",
   "execution_count": 1,
   "metadata": {},
   "outputs": [
    {
     "name": "stdout",
     "output_type": "stream",
     "text": [
      "<class 'str'>\n",
      "Muhammad Kamran\n"
     ]
    }
   ],
   "source": [
    "# boundries\n",
    "# 'string' \"string\" \"\"\"string\"\"\" ''''stirng'''\n",
    "name: str = 'Muhammad Kamran'\n",
    "print(type(name))\n",
    "print(name)\n"
   ]
  },
  {
   "cell_type": "markdown",
   "metadata": {},
   "source": [
    "## long string wiht double quotes and single quotes used in between \\n for next line"
   ]
  },
  {
   "cell_type": "code",
   "execution_count": 8,
   "metadata": {},
   "outputs": [
    {
     "name": "stdout",
     "output_type": "stream",
     "text": [
      "<class 'str'>\n",
      "my name is Ali \n",
      "My father's name is Kamran\n"
     ]
    }
   ],
   "source": [
    "message: str = \"My name is Ali \\nMy father's name is Kamran\"\n",
    "print(type(message))\n",
    "print(message)\n",
    "\n"
   ]
  },
  {
   "cell_type": "markdown",
   "metadata": {},
   "source": [
    "#### \\ to continue line"
   ]
  },
  {
   "cell_type": "code",
   "execution_count": 9,
   "metadata": {},
   "outputs": [
    {
     "name": "stdout",
     "output_type": "stream",
     "text": [
      "<class 'str'>\n",
      "My name is Ali \n",
      "My father's name is Kamran\n"
     ]
    }
   ],
   "source": [
    "message: str = 'My name is Ali \\nMy father\\'s name is Kamran'\n",
    "print(type(message))\n",
    "print(message)"
   ]
  },
  {
   "cell_type": "code",
   "execution_count": null,
   "metadata": {},
   "outputs": [],
   "source": [
    "#### defin multiline string \"\"\"string\"\"\", '''string''' "
   ]
  },
  {
   "cell_type": "code",
   "execution_count": null,
   "metadata": {},
   "outputs": [],
   "source": []
  },
  {
   "cell_type": "code",
   "execution_count": 14,
   "metadata": {},
   "outputs": [],
   "source": [
    "sname: str = \"Muhammad Ali\"\n",
    "fname: str = \"Muhammad Kamran\"\n",
    "age: int = 19\n",
    "edu: str = \"graduate\""
   ]
  },
  {
   "cell_type": "code",
   "execution_count": 15,
   "metadata": {},
   "outputs": [
    {
     "name": "stdout",
     "output_type": "stream",
     "text": [
      "\n",
      "Piac Student card \n",
      "Student Name: Muhammad Ali\n",
      "Father Name: Muhammad Kamran\n",
      "Age: 19\n",
      "Education: graduate\n",
      "\n",
      "\n"
     ]
    }
   ],
   "source": [
    "card: str = f'''\n",
    "Piac Student card \n",
    "Student Name: {sname}\n",
    "Father Name: {fname}\n",
    "Age: {age}\n",
    "Education: {edu}\n",
    "\n",
    "''' \n",
    "\n",
    "print(card)"
   ]
  },
  {
   "cell_type": "markdown",
   "metadata": {},
   "source": [
    "F-string and Jinja style"
   ]
  },
  {
   "cell_type": "code",
   "execution_count": null,
   "metadata": {},
   "outputs": [],
   "source": [
    "f\"\"\"\n",
    "studen name : {sname}\n",
    "\"\"\""
   ]
  },
  {
   "cell_type": "code",
   "execution_count": null,
   "metadata": {},
   "outputs": [],
   "source": [
    "#jinja syntax\n",
    "\"\"\"\n",
    "studen name : {sname}\n",
    "\"\"\""
   ]
  }
 ],
 "metadata": {
  "kernelspec": {
   "display_name": "python12",
   "language": "python",
   "name": "python3"
  },
  "language_info": {
   "codemirror_mode": {
    "name": "ipython",
    "version": 3
   },
   "file_extension": ".py",
   "mimetype": "text/x-python",
   "name": "python",
   "nbconvert_exporter": "python",
   "pygments_lexer": "ipython3",
   "version": "3.12.0"
  }
 },
 "nbformat": 4,
 "nbformat_minor": 2
}
