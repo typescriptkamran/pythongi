{
 "cells": [
  {
   "cell_type": "code",
   "execution_count": 1,
   "metadata": {},
   "outputs": [
    {
     "name": "stdout",
     "output_type": "stream",
     "text": [
      "Muhammad Kamran\n"
     ]
    }
   ],
   "source": [
    "name: str = \"Muhammad Kamran\"\n",
    "\n",
    "print(name)"
   ]
  },
  {
   "cell_type": "markdown",
   "metadata": {},
   "source": [
    "# String\n",
    "These days most of the data work  are in String in langchain.\n",
    "String boundries:\n",
    "\"Str\", 'str', '''str''', \"\"\"str\"\"\",\n",
    "\\n for line break\n",
    "\\' or \\\" if need to use special characters between strings"
   ]
  },
  {
   "cell_type": "code",
   "execution_count": 6,
   "metadata": {},
   "outputs": [
    {
     "name": "stdout",
     "output_type": "stream",
     "text": [
      "PIAIC student card fater's name\n"
     ]
    }
   ],
   "source": [
    "name: str = \"Muhammad Kamran\"\n",
    "message: str = \"PIAIC student card fater's name\"\n",
    "print(message)"
   ]
  },
  {
   "cell_type": "code",
   "execution_count": 7,
   "metadata": {},
   "outputs": [
    {
     "name": "stdout",
     "output_type": "stream",
     "text": [
      "PIAIC student card\n",
      "fater's name\n"
     ]
    }
   ],
   "source": [
    "# message = 'PIAIC student card fater's name' # error\n",
    "# solution\n",
    "message = 'PIAIC student card\\nfater\\'s name'\n",
    "print(message)"
   ]
  },
  {
   "cell_type": "code",
   "execution_count": 8,
   "metadata": {},
   "outputs": [
    {
     "name": "stdout",
     "output_type": "stream",
     "text": [
      "PIAIC Student Card\n",
      "Name:Muhammad Kamran\n"
     ]
    }
   ],
   "source": [
    "# another example\n",
    "name: str = \"Muhammad Kamran\"\n",
    "fname: str = \"Shamas ud Din\"\n",
    "education: str = \"Graduate\"\n",
    "age: int = 45\n",
    "card: str = \"PIAIC Student Card\\nName:\" + name \n",
    "# card: str = \"PIAIC Student Card\\nName:\" + name + \"\\nage:\" + age  #error\n",
    "# As one veriable is string other is int.\n",
    "# We can fix this if both of veriable have same type int or str.\n",
    "\n",
    "print(card)"
   ]
  },
  {
   "cell_type": "code",
   "execution_count": 10,
   "metadata": {},
   "outputs": [
    {
     "name": "stdout",
     "output_type": "stream",
     "text": [
      "PIAIC Student Card\n",
      "Name:Muhammad Kamran\n",
      "age:45\n"
     ]
    }
   ],
   "source": [
    "# How to fix error\n",
    "name: str = \"Muhammad Kamran\"\n",
    "fname: str = \"Shamas ud Din\"\n",
    "education: str = \"Graduate\"\n",
    "age: int = 45\n",
    "card: str = \"PIAIC Student Card\\nName:\" + name \n",
    "card: str = \"PIAIC Student Card\\nName:\" + name + \"\\nage:\" + str(age) \n",
    "# We had fix this as both of veriable have same type str, by str() function.\n",
    "\n",
    "print(card)"
   ]
  },
  {
   "cell_type": "code",
   "execution_count": 13,
   "metadata": {},
   "outputs": [
    {
     "name": "stdout",
     "output_type": "stream",
     "text": [
      "12\n",
      "12\n"
     ]
    }
   ],
   "source": [
    "# example of next line start\n",
    "# \\ back slash means we can continue code from next line\n",
    "print(7+2+3)\n",
    "print(7+\\\n",
    "      2+\\\n",
    "      3)"
   ]
  },
  {
   "cell_type": "code",
   "execution_count": 3,
   "metadata": {},
   "outputs": [
    {
     "name": "stdout",
     "output_type": "stream",
     "text": [
      "PIAIC Student Card\n",
      "Name: Muhammad Kamran \n",
      "Father's name: Shamas ud Din\n",
      "Age: 45\n",
      "Education: Graduate\n",
      "\n",
      "total 9\n",
      "\n"
     ]
    }
   ],
   "source": [
    "# Fstring: To define multiline script output we can use triple quotes f\"\"\"string\"\"\"\n",
    "name: str = \"Muhammad Kamran\"\n",
    "fname: str = \"Shamas ud Din\"\n",
    "education: str = \"Graduate\"\n",
    "age: int = 45\n",
    "\n",
    "card: str = f\"\"\"PIAIC Student Card\n",
    "Name: {name} \n",
    "Father's name: {fname}\n",
    "Age: {age}\n",
    "Education: {education}\n",
    "\n",
    "total {4+2+3}\n",
    "\"\"\" \n",
    "\n",
    "\n",
    "print(card)"
   ]
  },
  {
   "cell_type": "code",
   "execution_count": null,
   "metadata": {},
   "outputs": [],
   "source": [
    "# F-string and Jinja style template\n",
    "\n",
    "#f-string\n",
    "f\"\"\"\n",
    "Student name {name}\n",
    "\"\"\"\n",
    "#ginga style template\n",
    "\"\"\"\n",
    "Student name {{name}}\n",
    "\"\"\"\n",
    "\n"
   ]
  },
  {
   "cell_type": "code",
   "execution_count": 4,
   "metadata": {},
   "outputs": [
    {
     "name": "stdout",
     "output_type": "stream",
     "text": [
      "PIAIC Student Card\n",
      "Name:  Muhammad Kamran\n",
      "Father's name: Shamas ud Din\n",
      "Age: 45\n",
      "Education: Graduate\n",
      "\n",
      "\n",
      "\n"
     ]
    }
   ],
   "source": [
    "name: str = \"Muhammad Kamran\"\n",
    "fname: str = \"Shamas ud Din\"\n",
    "education: str = \"Graduate\"\n",
    "age: int = 45\n",
    "\n",
    "card: str = f\"\"\"PIAIC Student Card\n",
    "Name:  %s\n",
    "Father's name: %s\n",
    "Age: %d\n",
    "Education: %s\n",
    "\n",
    "\n",
    "\"\"\" % (name, fname, age, education) \n",
    "\n",
    "\n",
    "print(card)"
   ]
  },
  {
   "cell_type": "markdown",
   "metadata": {},
   "source": [
    "## Recumended f-string"
   ]
  },
  {
   "cell_type": "markdown",
   "metadata": {},
   "source": [
    "String "
   ]
  },
  {
   "cell_type": "code",
   "execution_count": null,
   "metadata": {},
   "outputs": [],
   "source": [
    "name: str = \"Muhammad Kamran\"\n",
    "fname: str = \"Shamas ud Din\"\n",
    "education: str = \"Graduate\"\n",
    "age: int = 45\n",
    "\n",
    "card: str = f\"\"\"PIAIC Student Card\n",
    "Name:  %s\n",
    "Father's name: %s\n",
    "Age: %d\n",
    "Education: %s\n",
    "\n",
    "\n",
    "\"\"\" % (name, fname, age, education) \n",
    "\n",
    "\n",
    "print(card)"
   ]
  },
  {
   "cell_type": "code",
   "execution_count": 5,
   "metadata": {},
   "outputs": [
    {
     "data": {
      "text/plain": [
       "['capitalize',\n",
       " 'casefold',\n",
       " 'center',\n",
       " 'count',\n",
       " 'encode',\n",
       " 'endswith',\n",
       " 'expandtabs',\n",
       " 'find',\n",
       " 'format',\n",
       " 'format_map',\n",
       " 'index',\n",
       " 'isalnum',\n",
       " 'isalpha',\n",
       " 'isascii',\n",
       " 'isdecimal',\n",
       " 'isdigit',\n",
       " 'isidentifier',\n",
       " 'islower',\n",
       " 'isnumeric',\n",
       " 'isprintable',\n",
       " 'isspace',\n",
       " 'istitle',\n",
       " 'isupper',\n",
       " 'join',\n",
       " 'ljust',\n",
       " 'lower',\n",
       " 'lstrip',\n",
       " 'maketrans',\n",
       " 'partition',\n",
       " 'removeprefix',\n",
       " 'removesuffix',\n",
       " 'replace',\n",
       " 'rfind',\n",
       " 'rindex',\n",
       " 'rjust',\n",
       " 'rpartition',\n",
       " 'rsplit',\n",
       " 'rstrip',\n",
       " 'split',\n",
       " 'splitlines',\n",
       " 'startswith',\n",
       " 'strip',\n",
       " 'swapcase',\n",
       " 'title',\n",
       " 'translate',\n",
       " 'upper',\n",
       " 'zfill']"
      ]
     },
     "execution_count": 5,
     "metadata": {},
     "output_type": "execute_result"
    }
   ],
   "source": [
    "[i for i in dir(str) if \"__\" not in i]"
   ]
  },
  {
   "cell_type": "code",
   "execution_count": 9,
   "metadata": {},
   "outputs": [
    {
     "name": "stdout",
     "output_type": "stream",
     "text": [
      "Muhammd kamran\n",
      "muhammd kamran\n",
      "MUHAMMD KAMRAN\n"
     ]
    }
   ],
   "source": [
    "name: str = \"MuHammd KaMran\"\n",
    "print(name.capitalize())\n",
    "print(name.lower())\n",
    "print(name.upper())\n"
   ]
  },
  {
   "cell_type": "markdown",
   "metadata": {},
   "source": [
    "it is also fstring using .format(a,b) "
   ]
  },
  {
   "cell_type": "code",
   "execution_count": 10,
   "metadata": {},
   "outputs": [
    {
     "data": {
      "text/plain": [
       "'Pakistan value a = 7 and value b = 8'"
      ]
     },
     "execution_count": 10,
     "metadata": {},
     "output_type": "execute_result"
    }
   ],
   "source": [
    "a=7\n",
    "b=8\n",
    "# place holder is {}\n",
    "\"Pakistan value a = {} and value b = {}\".format(a,b)"
   ]
  },
  {
   "cell_type": "code",
   "execution_count": 12,
   "metadata": {},
   "outputs": [
    {
     "name": "stdout",
     "output_type": "stream",
     "text": [
      "PIAIC Student Card\n",
      "Name:  Muhammad Kamran\n",
      "Father's name: Shamas ud Din\n",
      "Age: 45\n",
      "Education: Graduate\n",
      "\n",
      "\n",
      "\n"
     ]
    }
   ],
   "source": [
    "name: str = \"Muhammad Kamran\"\n",
    "fname: str = \"Shamas ud Din\"\n",
    "education: str = \"Graduate\"\n",
    "age: int = 45\n",
    "\n",
    "card: str = \"\"\"PIAIC Student Card\n",
    "Name:  {}\n",
    "Father's name: {}\n",
    "Age: {}\n",
    "Education: {}\n",
    "\n",
    "\n",
    "\"\"\" .format(name, fname, age, education)\n",
    "\n",
    "\n",
    "print(card)"
   ]
  },
  {
   "cell_type": "code",
   "execution_count": 13,
   "metadata": {},
   "outputs": [
    {
     "name": "stdout",
     "output_type": "stream",
     "text": [
      "PIAIC Student Card\n",
      "Name:  Muhammad Kamran\n",
      "Father's name: Shamas ud Din\n",
      "Age: 45\n",
      "Education: Graduate\n",
      "\n",
      "\n",
      "\n"
     ]
    }
   ],
   "source": [
    "# adding data by index number\n",
    "name: str = \"Muhammad Kamran\"\n",
    "fname: str = \"Shamas ud Din\"\n",
    "education: str = \"Graduate\"\n",
    "age: int = 45\n",
    "\n",
    "card: str = \"\"\"PIAIC Student Card\n",
    "Name:  {1}\n",
    "Father's name: {0}\n",
    "Age: {3}\n",
    "Education: {2}\n",
    "\n",
    "\n",
    "\"\"\" .format(fname, name, education, age)\n",
    "\n",
    "\n",
    "print(card)"
   ]
  },
  {
   "cell_type": "code",
   "execution_count": 14,
   "metadata": {},
   "outputs": [
    {
     "name": "stdout",
     "output_type": "stream",
     "text": [
      "PIAIC Student Card\n",
      "Name:  Muhammad Kamran\n",
      "Father's name: Muhammad Kamran\n",
      "Age: 45\n",
      "Education: Graduate\n",
      "\n",
      "\n",
      "\n"
     ]
    }
   ],
   "source": [
    "# adding data by index number\n",
    "name: str = \"Muhammad Kamran\"\n",
    "fname: str = \"Shamas ud Din\"\n",
    "education: str = \"Graduate\"\n",
    "age: int = 45\n",
    "\n",
    "card: str = \"\"\"PIAIC Student Card\n",
    "Name:  {a}\n",
    "Father's name: {b}\n",
    "Age: {c}\n",
    "Education: {d}\n",
    "\n",
    "\n",
    "\"\"\" .format(a=name, b=name, d=education, c=age)\n",
    "\n",
    "\n",
    "\n",
    "print(card)"
   ]
  },
  {
   "cell_type": "markdown",
   "metadata": {},
   "source": [
    "we can check results by string comparison"
   ]
  },
  {
   "cell_type": "code",
   "execution_count": 15,
   "metadata": {},
   "outputs": [
    {
     "name": "stdout",
     "output_type": "stream",
     "text": [
      "my Name is Muhammad Kamran\n",
      "15\n"
     ]
    }
   ],
   "source": [
    "student_code: str = \"\"\"\n",
    "print(\"my Name is Muhammad Kamran\")\n",
    "a:int = 7\n",
    "b: int = 8\n",
    "print(a+b)\n",
    "\n",
    "\"\"\"\n",
    "\n",
    "exec(student_code)"
   ]
  },
  {
   "cell_type": "markdown",
   "metadata": {},
   "source": [
    "## explore sring methods and attributes"
   ]
  },
  {
   "cell_type": "code",
   "execution_count": null,
   "metadata": {},
   "outputs": [],
   "source": []
  }
 ],
 "metadata": {
  "kernelspec": {
   "display_name": "python12",
   "language": "python",
   "name": "python3"
  },
  "language_info": {
   "codemirror_mode": {
    "name": "ipython",
    "version": 3
   },
   "file_extension": ".py",
   "mimetype": "text/x-python",
   "name": "python",
   "nbconvert_exporter": "python",
   "pygments_lexer": "ipython3",
   "version": "3.12.0"
  }
 },
 "nbformat": 4,
 "nbformat_minor": 2
}
